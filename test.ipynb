{
 "cells": [
  {
   "cell_type": "code",
   "execution_count": 5,
   "metadata": {},
   "outputs": [
    {
     "name": "stdout",
     "output_type": "stream",
     "text": [
      "['pymongo[srv]==4.2.0', '-e .']\n"
     ]
    }
   ],
   "source": [
    "from typing import List\n",
    "def get_requirements()->List[str]:\n",
    "    requirement_list:List[str] = []\n",
    "    with open('requirements.txt') as f:\n",
    "        requirements = f.read().splitlines()\n",
    "        for requirement in requirements:\n",
    "            requirement_list.append(requirement)\n",
    "\n",
    "    return requirement_list\n",
    "    \n",
    "print(get_requirements())    \n",
    "    "
   ]
  }
 ],
 "metadata": {
  "kernelspec": {
   "display_name": "base",
   "language": "python",
   "name": "python3"
  },
  "language_info": {
   "codemirror_mode": {
    "name": "ipython",
    "version": 3
   },
   "file_extension": ".py",
   "mimetype": "text/x-python",
   "name": "python",
   "nbconvert_exporter": "python",
   "pygments_lexer": "ipython3",
   "version": "3.9.13"
  },
  "orig_nbformat": 4,
  "vscode": {
   "interpreter": {
    "hash": "c78599019583e1cc8ec8211fef8090213879948681afdf9098fe61079571de81"
   }
  }
 },
 "nbformat": 4,
 "nbformat_minor": 2
}
